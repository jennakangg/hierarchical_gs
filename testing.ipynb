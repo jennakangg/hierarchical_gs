{
 "cells": [
  {
   "cell_type": "code",
   "execution_count": 6,
   "metadata": {},
   "outputs": [],
   "source": [
    "import pickle\n",
    "import os\n",
    "import matplotlib.pyplot as plt\n",
    "from mpl_toolkits.mplot3d import Axes3D\n",
    "import torch\n",
    "import numpy as np\n",
    "\n",
    "def load_points_by_viewpoint(view_num):\n",
    "    # Filepath for the pickle file\n",
    "    filepath = 'points_dict.pkl'\n",
    "    \n",
    "    # Ensure the file exists\n",
    "    if not os.path.exists(filepath):\n",
    "        print(\"Error: The data file does not exist.\")\n",
    "        return\n",
    "    \n",
    "    # Load the dictionary from the pickle file\n",
    "    with open(filepath, 'rb') as file:\n",
    "        points_dict = pickle.load(file)\n",
    "    \n",
    "    # Retrieve points and camera parameters for the specified view number\n",
    "    if view_num in points_dict:\n",
    "        data = points_dict[view_num]\n",
    "        points = data['points']\n",
    "        height = data['height']\n",
    "        width = data['width']\n",
    "        transform = data['full_proj_transform']\n",
    "        return points,height, width, transform\n",
    "    else:\n",
    "        print(f\"No data found for view number {view_num}.\")\n",
    "        return\n",
    "\n",
    "\n",
    "def plot_3d_points(points, image_height, image_width, transform):\n",
    "    # Transform and project points\n",
    "    points_3d_hom = np.hstack((points, np.ones((points.shape[0], 1))))\n",
    "    # Compute transformation matrices\n",
    "    points_2d_hom = points_3d_hom @ transform.T  # Apply full projection transform\n",
    "    points_2d_hom /= points_2d_hom[:, -1, np.newaxis]  # Normalize by the last (w) coordinate\n",
    "\n",
    "    # Convert to pixel coordinates\n",
    "    image_width = 800  # Placeholder for the actual image width\n",
    "    image_height = 600  # Placeholder for the actual image height\n",
    "    x_coords = (0.5 * points_2d_hom[:, 0] + 0.5) * image_width\n",
    "    y_coords = (0.5 * points_2d_hom[:, 1] + 0.5) * image_height\n",
    "\n",
    "    # Plotting\n",
    "    plt.figure(figsize=(10, 7.5))\n",
    "    plt.imshow(np.zeros((image_height, image_width, 3)), extent=[0, image_width, 0, image_height])\n",
    "    plt.scatter(x_coords, y_coords, color='red')\n",
    "    plt.xlim([0, image_width])\n",
    "    plt.ylim([0, image_height])\n",
    "    plt.gca().invert_yaxis()  # Invert y-axis to match image coordinates\n",
    "    plt.title('2D Projection of 3D Points on Image Plane')\n",
    "    plt.show()\n",
    "\n",
    "\n",
    "\n"
   ]
  },
  {
   "cell_type": "code",
   "execution_count": 7,
   "metadata": {},
   "outputs": [
    {
     "ename": "ModuleNotFoundError",
     "evalue": "No module named 'simple_knn'",
     "output_type": "error",
     "traceback": [
      "\u001b[0;31m---------------------------------------------------------------------------\u001b[0m",
      "\u001b[0;31mModuleNotFoundError\u001b[0m                       Traceback (most recent call last)",
      "Cell \u001b[0;32mIn[7], line 3\u001b[0m\n\u001b[1;32m      1\u001b[0m \u001b[38;5;66;03m# Example usage:\u001b[39;00m\n\u001b[1;32m      2\u001b[0m \u001b[38;5;66;03m# Asking the user for a view number to retrieve and plot points\u001b[39;00m\n\u001b[0;32m----> 3\u001b[0m points,camera \u001b[38;5;241m=\u001b[39m \u001b[43mload_points_by_viewpoint\u001b[49m\u001b[43m(\u001b[49m\u001b[38;5;241;43m2\u001b[39;49m\u001b[43m)\u001b[49m\n\u001b[1;32m      4\u001b[0m \u001b[38;5;28;01mif\u001b[39;00m points \u001b[38;5;129;01mis\u001b[39;00m \u001b[38;5;129;01mnot\u001b[39;00m \u001b[38;5;28;01mNone\u001b[39;00m:\n\u001b[1;32m      5\u001b[0m     plot_3d_points(points, camera)\n",
      "Cell \u001b[0;32mIn[6], line 19\u001b[0m, in \u001b[0;36mload_points_by_viewpoint\u001b[0;34m(view_num)\u001b[0m\n\u001b[1;32m     17\u001b[0m \u001b[38;5;66;03m# Load the dictionary from the pickle file\u001b[39;00m\n\u001b[1;32m     18\u001b[0m \u001b[38;5;28;01mwith\u001b[39;00m \u001b[38;5;28mopen\u001b[39m(filepath, \u001b[38;5;124m'\u001b[39m\u001b[38;5;124mrb\u001b[39m\u001b[38;5;124m'\u001b[39m) \u001b[38;5;28;01mas\u001b[39;00m file:\n\u001b[0;32m---> 19\u001b[0m     points_dict \u001b[38;5;241m=\u001b[39m \u001b[43mpickle\u001b[49m\u001b[38;5;241;43m.\u001b[39;49m\u001b[43mload\u001b[49m\u001b[43m(\u001b[49m\u001b[43mfile\u001b[49m\u001b[43m)\u001b[49m\n\u001b[1;32m     21\u001b[0m \u001b[38;5;66;03m# Retrieve points and camera parameters for the specified view number\u001b[39;00m\n\u001b[1;32m     22\u001b[0m \u001b[38;5;28;01mif\u001b[39;00m view_num \u001b[38;5;129;01min\u001b[39;00m points_dict:\n",
      "File \u001b[0;32m~/NYU/research/gaussianperception/hierarchical-3d-gaussians/scene/__init__.py:16\u001b[0m\n\u001b[1;32m     14\u001b[0m \u001b[38;5;28;01mimport\u001b[39;00m \u001b[38;5;21;01mjson\u001b[39;00m\n\u001b[1;32m     15\u001b[0m \u001b[38;5;28;01mfrom\u001b[39;00m \u001b[38;5;21;01mutils\u001b[39;00m\u001b[38;5;21;01m.\u001b[39;00m\u001b[38;5;21;01msystem_utils\u001b[39;00m \u001b[38;5;28;01mimport\u001b[39;00m searchForMaxIteration\n\u001b[0;32m---> 16\u001b[0m \u001b[38;5;28;01mfrom\u001b[39;00m \u001b[38;5;21;01mscene\u001b[39;00m\u001b[38;5;21;01m.\u001b[39;00m\u001b[38;5;21;01mdataset_readers\u001b[39;00m \u001b[38;5;28;01mimport\u001b[39;00m sceneLoadTypeCallbacks\n\u001b[1;32m     17\u001b[0m \u001b[38;5;28;01mfrom\u001b[39;00m \u001b[38;5;21;01mscene\u001b[39;00m\u001b[38;5;21;01m.\u001b[39;00m\u001b[38;5;21;01mgaussian_model\u001b[39;00m \u001b[38;5;28;01mimport\u001b[39;00m GaussianModel\n\u001b[1;32m     18\u001b[0m \u001b[38;5;28;01mfrom\u001b[39;00m \u001b[38;5;21;01marguments\u001b[39;00m \u001b[38;5;28;01mimport\u001b[39;00m ModelParams\n",
      "File \u001b[0;32m~/NYU/research/gaussianperception/hierarchical-3d-gaussians/scene/dataset_readers.py:24\u001b[0m\n\u001b[1;32m     22\u001b[0m \u001b[38;5;28;01mfrom\u001b[39;00m \u001b[38;5;21;01mplyfile\u001b[39;00m \u001b[38;5;28;01mimport\u001b[39;00m PlyData, PlyElement\n\u001b[1;32m     23\u001b[0m \u001b[38;5;28;01mfrom\u001b[39;00m \u001b[38;5;21;01mutils\u001b[39;00m\u001b[38;5;21;01m.\u001b[39;00m\u001b[38;5;21;01msh_utils\u001b[39;00m \u001b[38;5;28;01mimport\u001b[39;00m SH2RGB\n\u001b[0;32m---> 24\u001b[0m \u001b[38;5;28;01mfrom\u001b[39;00m \u001b[38;5;21;01mscene\u001b[39;00m\u001b[38;5;21;01m.\u001b[39;00m\u001b[38;5;21;01mgaussian_model\u001b[39;00m \u001b[38;5;28;01mimport\u001b[39;00m BasicPointCloud\n\u001b[1;32m     25\u001b[0m \u001b[38;5;28;01mimport\u001b[39;00m \u001b[38;5;21;01mtorch\u001b[39;00m\n\u001b[1;32m     28\u001b[0m \u001b[38;5;28;01mclass\u001b[39;00m \u001b[38;5;21;01mCameraInfo\u001b[39;00m(NamedTuple):\n",
      "File \u001b[0;32m~/NYU/research/gaussianperception/hierarchical-3d-gaussians/scene/gaussian_model.py:21\u001b[0m\n\u001b[1;32m     19\u001b[0m \u001b[38;5;28;01mfrom\u001b[39;00m \u001b[38;5;21;01mplyfile\u001b[39;00m \u001b[38;5;28;01mimport\u001b[39;00m PlyData, PlyElement\n\u001b[1;32m     20\u001b[0m \u001b[38;5;28;01mfrom\u001b[39;00m \u001b[38;5;21;01mutils\u001b[39;00m\u001b[38;5;21;01m.\u001b[39;00m\u001b[38;5;21;01msh_utils\u001b[39;00m \u001b[38;5;28;01mimport\u001b[39;00m RGB2SH\n\u001b[0;32m---> 21\u001b[0m \u001b[38;5;28;01mfrom\u001b[39;00m \u001b[38;5;21;01msimple_knn\u001b[39;00m\u001b[38;5;21;01m.\u001b[39;00m\u001b[38;5;21;01m_C\u001b[39;00m \u001b[38;5;28;01mimport\u001b[39;00m distCUDA2\n\u001b[1;32m     22\u001b[0m \u001b[38;5;28;01mfrom\u001b[39;00m \u001b[38;5;21;01mutils\u001b[39;00m\u001b[38;5;21;01m.\u001b[39;00m\u001b[38;5;21;01mgraphics_utils\u001b[39;00m \u001b[38;5;28;01mimport\u001b[39;00m BasicPointCloud\n\u001b[1;32m     23\u001b[0m \u001b[38;5;28;01mfrom\u001b[39;00m \u001b[38;5;21;01mutils\u001b[39;00m\u001b[38;5;21;01m.\u001b[39;00m\u001b[38;5;21;01mgeneral_utils\u001b[39;00m \u001b[38;5;28;01mimport\u001b[39;00m strip_symmetric, build_scaling_rotation\n",
      "\u001b[0;31mModuleNotFoundError\u001b[0m: No module named 'simple_knn'"
     ]
    }
   ],
   "source": [
    "# Example usage:\n",
    "# Asking the user for a view number to retrieve and plot points\n",
    "points,camera = load_points_by_viewpoint(2)\n",
    "if points is not None:\n",
    "    plot_3d_points(points, camera)\n"
   ]
  },
  {
   "cell_type": "code",
   "execution_count": null,
   "metadata": {},
   "outputs": [],
   "source": []
  }
 ],
 "metadata": {
  "kernelspec": {
   "display_name": "octree-gs",
   "language": "python",
   "name": "python3"
  },
  "language_info": {
   "codemirror_mode": {
    "name": "ipython",
    "version": 3
   },
   "file_extension": ".py",
   "mimetype": "text/x-python",
   "name": "python",
   "nbconvert_exporter": "python",
   "pygments_lexer": "ipython3",
   "version": "3.12.5"
  }
 },
 "nbformat": 4,
 "nbformat_minor": 2
}
